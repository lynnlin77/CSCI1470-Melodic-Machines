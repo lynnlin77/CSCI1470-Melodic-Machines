{
 "cells": [
  {
   "cell_type": "markdown",
   "id": "57e18b8e",
   "metadata": {},
   "source": [
    "# Extract artist names"
   ]
  },
  {
   "cell_type": "code",
   "execution_count": null,
   "id": "f15b27f5",
   "metadata": {},
   "outputs": [],
   "source": [
    "import os\n",
    "import numpy as np\n",
    "import pandas as pd\n",
    "import sklearn.utils\n",
    "import utils\n",
    "import IPython.display as ipd"
   ]
  },
  {
   "cell_type": "code",
   "execution_count": 7,
   "id": "675cc1ff",
   "metadata": {},
   "outputs": [],
   "source": [
    "tracks = utils.load('../../tracks.csv')"
   ]
  },
  {
   "cell_type": "code",
   "execution_count": 9,
   "id": "e5cd632e",
   "metadata": {},
   "outputs": [
    {
     "data": {
      "text/html": [
       "<div>\n",
       "<style scoped>\n",
       "    .dataframe tbody tr th:only-of-type {\n",
       "        vertical-align: middle;\n",
       "    }\n",
       "\n",
       "    .dataframe tbody tr th {\n",
       "        vertical-align: top;\n",
       "    }\n",
       "\n",
       "    .dataframe thead th {\n",
       "        text-align: right;\n",
       "    }\n",
       "</style>\n",
       "<table border=\"1\" class=\"dataframe\">\n",
       "  <thead>\n",
       "    <tr style=\"text-align: right;\">\n",
       "      <th></th>\n",
       "      <th>active_year_begin</th>\n",
       "      <th>active_year_end</th>\n",
       "      <th>associated_labels</th>\n",
       "      <th>bio</th>\n",
       "      <th>comments</th>\n",
       "      <th>date_created</th>\n",
       "      <th>favorites</th>\n",
       "      <th>id</th>\n",
       "      <th>latitude</th>\n",
       "      <th>location</th>\n",
       "      <th>longitude</th>\n",
       "      <th>members</th>\n",
       "      <th>name</th>\n",
       "      <th>related_projects</th>\n",
       "      <th>tags</th>\n",
       "      <th>website</th>\n",
       "      <th>wikipedia_page</th>\n",
       "    </tr>\n",
       "    <tr>\n",
       "      <th>track_id</th>\n",
       "      <th></th>\n",
       "      <th></th>\n",
       "      <th></th>\n",
       "      <th></th>\n",
       "      <th></th>\n",
       "      <th></th>\n",
       "      <th></th>\n",
       "      <th></th>\n",
       "      <th></th>\n",
       "      <th></th>\n",
       "      <th></th>\n",
       "      <th></th>\n",
       "      <th></th>\n",
       "      <th></th>\n",
       "      <th></th>\n",
       "      <th></th>\n",
       "      <th></th>\n",
       "    </tr>\n",
       "  </thead>\n",
       "  <tbody>\n",
       "    <tr>\n",
       "      <th>2</th>\n",
       "      <td>2006-01-01</td>\n",
       "      <td>NaT</td>\n",
       "      <td>NaN</td>\n",
       "      <td>&lt;p&gt;A Way Of Life, A Collective of Hip-Hop from...</td>\n",
       "      <td>0</td>\n",
       "      <td>2008-11-26 01:42:32</td>\n",
       "      <td>9</td>\n",
       "      <td>1</td>\n",
       "      <td>40.058324</td>\n",
       "      <td>New Jersey</td>\n",
       "      <td>-74.405661</td>\n",
       "      <td>Sajje Morocco,Brownbum,ZawidaGod,Custodian of ...</td>\n",
       "      <td>AWOL</td>\n",
       "      <td>The list of past projects is 2 long but every1...</td>\n",
       "      <td>[awol]</td>\n",
       "      <td>http://www.AzillionRecords.blogspot.com</td>\n",
       "      <td>NaN</td>\n",
       "    </tr>\n",
       "    <tr>\n",
       "      <th>3</th>\n",
       "      <td>2006-01-01</td>\n",
       "      <td>NaT</td>\n",
       "      <td>NaN</td>\n",
       "      <td>&lt;p&gt;A Way Of Life, A Collective of Hip-Hop from...</td>\n",
       "      <td>0</td>\n",
       "      <td>2008-11-26 01:42:32</td>\n",
       "      <td>9</td>\n",
       "      <td>1</td>\n",
       "      <td>40.058324</td>\n",
       "      <td>New Jersey</td>\n",
       "      <td>-74.405661</td>\n",
       "      <td>Sajje Morocco,Brownbum,ZawidaGod,Custodian of ...</td>\n",
       "      <td>AWOL</td>\n",
       "      <td>The list of past projects is 2 long but every1...</td>\n",
       "      <td>[awol]</td>\n",
       "      <td>http://www.AzillionRecords.blogspot.com</td>\n",
       "      <td>NaN</td>\n",
       "    </tr>\n",
       "    <tr>\n",
       "      <th>5</th>\n",
       "      <td>2006-01-01</td>\n",
       "      <td>NaT</td>\n",
       "      <td>NaN</td>\n",
       "      <td>&lt;p&gt;A Way Of Life, A Collective of Hip-Hop from...</td>\n",
       "      <td>0</td>\n",
       "      <td>2008-11-26 01:42:32</td>\n",
       "      <td>9</td>\n",
       "      <td>1</td>\n",
       "      <td>40.058324</td>\n",
       "      <td>New Jersey</td>\n",
       "      <td>-74.405661</td>\n",
       "      <td>Sajje Morocco,Brownbum,ZawidaGod,Custodian of ...</td>\n",
       "      <td>AWOL</td>\n",
       "      <td>The list of past projects is 2 long but every1...</td>\n",
       "      <td>[awol]</td>\n",
       "      <td>http://www.AzillionRecords.blogspot.com</td>\n",
       "      <td>NaN</td>\n",
       "    </tr>\n",
       "    <tr>\n",
       "      <th>10</th>\n",
       "      <td>NaT</td>\n",
       "      <td>NaT</td>\n",
       "      <td>Mexican Summer, Richie Records, Woodsist, Skul...</td>\n",
       "      <td>&lt;p&gt;&lt;span style=\"font-family:Verdana, Geneva, A...</td>\n",
       "      <td>3</td>\n",
       "      <td>2008-11-26 01:42:55</td>\n",
       "      <td>74</td>\n",
       "      <td>6</td>\n",
       "      <td>NaN</td>\n",
       "      <td>NaN</td>\n",
       "      <td>NaN</td>\n",
       "      <td>Kurt Vile, the Violators</td>\n",
       "      <td>Kurt Vile</td>\n",
       "      <td>NaN</td>\n",
       "      <td>[philly, kurt vile]</td>\n",
       "      <td>http://kurtvile.com</td>\n",
       "      <td>NaN</td>\n",
       "    </tr>\n",
       "    <tr>\n",
       "      <th>20</th>\n",
       "      <td>1990-01-01</td>\n",
       "      <td>2011-01-01</td>\n",
       "      <td>NaN</td>\n",
       "      <td>&lt;p&gt;Songs written by: Nicky Cook&lt;/p&gt;\\n&lt;p&gt;VOCALS...</td>\n",
       "      <td>2</td>\n",
       "      <td>2008-11-26 01:42:52</td>\n",
       "      <td>10</td>\n",
       "      <td>4</td>\n",
       "      <td>51.895927</td>\n",
       "      <td>Colchester England</td>\n",
       "      <td>0.891874</td>\n",
       "      <td>Nicky Cook\\n</td>\n",
       "      <td>Nicky Cook</td>\n",
       "      <td>NaN</td>\n",
       "      <td>[instrumentals, experimental pop, post punk, e...</td>\n",
       "      <td>NaN</td>\n",
       "      <td>NaN</td>\n",
       "    </tr>\n",
       "  </tbody>\n",
       "</table>\n",
       "</div>"
      ],
      "text/plain": [
       "         active_year_begin active_year_end  \\\n",
       "track_id                                     \n",
       "2               2006-01-01             NaT   \n",
       "3               2006-01-01             NaT   \n",
       "5               2006-01-01             NaT   \n",
       "10                     NaT             NaT   \n",
       "20              1990-01-01      2011-01-01   \n",
       "\n",
       "                                          associated_labels  \\\n",
       "track_id                                                      \n",
       "2                                                       NaN   \n",
       "3                                                       NaN   \n",
       "5                                                       NaN   \n",
       "10        Mexican Summer, Richie Records, Woodsist, Skul...   \n",
       "20                                                      NaN   \n",
       "\n",
       "                                                        bio  comments  \\\n",
       "track_id                                                                \n",
       "2         <p>A Way Of Life, A Collective of Hip-Hop from...         0   \n",
       "3         <p>A Way Of Life, A Collective of Hip-Hop from...         0   \n",
       "5         <p>A Way Of Life, A Collective of Hip-Hop from...         0   \n",
       "10        <p><span style=\"font-family:Verdana, Geneva, A...         3   \n",
       "20        <p>Songs written by: Nicky Cook</p>\\n<p>VOCALS...         2   \n",
       "\n",
       "                date_created  favorites  id   latitude            location  \\\n",
       "track_id                                                                     \n",
       "2        2008-11-26 01:42:32          9   1  40.058324          New Jersey   \n",
       "3        2008-11-26 01:42:32          9   1  40.058324          New Jersey   \n",
       "5        2008-11-26 01:42:32          9   1  40.058324          New Jersey   \n",
       "10       2008-11-26 01:42:55         74   6        NaN                 NaN   \n",
       "20       2008-11-26 01:42:52         10   4  51.895927  Colchester England   \n",
       "\n",
       "          longitude                                            members  \\\n",
       "track_id                                                                 \n",
       "2        -74.405661  Sajje Morocco,Brownbum,ZawidaGod,Custodian of ...   \n",
       "3        -74.405661  Sajje Morocco,Brownbum,ZawidaGod,Custodian of ...   \n",
       "5        -74.405661  Sajje Morocco,Brownbum,ZawidaGod,Custodian of ...   \n",
       "10              NaN                           Kurt Vile, the Violators   \n",
       "20         0.891874                                       Nicky Cook\\n   \n",
       "\n",
       "                name                                   related_projects  \\\n",
       "track_id                                                                  \n",
       "2               AWOL  The list of past projects is 2 long but every1...   \n",
       "3               AWOL  The list of past projects is 2 long but every1...   \n",
       "5               AWOL  The list of past projects is 2 long but every1...   \n",
       "10         Kurt Vile                                                NaN   \n",
       "20        Nicky Cook                                                NaN   \n",
       "\n",
       "                                                       tags  \\\n",
       "track_id                                                      \n",
       "2                                                    [awol]   \n",
       "3                                                    [awol]   \n",
       "5                                                    [awol]   \n",
       "10                                      [philly, kurt vile]   \n",
       "20        [instrumentals, experimental pop, post punk, e...   \n",
       "\n",
       "                                          website wikipedia_page  \n",
       "track_id                                                          \n",
       "2         http://www.AzillionRecords.blogspot.com            NaN  \n",
       "3         http://www.AzillionRecords.blogspot.com            NaN  \n",
       "5         http://www.AzillionRecords.blogspot.com            NaN  \n",
       "10                            http://kurtvile.com            NaN  \n",
       "20                                            NaN            NaN  "
      ]
     },
     "metadata": {},
     "output_type": "display_data"
    }
   ],
   "source": [
    "ipd.display(tracks['artist'].head())"
   ]
  },
  {
   "cell_type": "code",
   "execution_count": 12,
   "id": "548aa69c",
   "metadata": {},
   "outputs": [
    {
     "data": {
      "text/plain": [
       "(106574, 17)"
      ]
     },
     "execution_count": 12,
     "metadata": {},
     "output_type": "execute_result"
    }
   ],
   "source": [
    "tracks['artist'].shape"
   ]
  },
  {
   "cell_type": "code",
   "execution_count": 49,
   "id": "cf88f9e9",
   "metadata": {},
   "outputs": [
    {
     "data": {
      "text/plain": [
       "(artist, name)\n",
       "Kosta T                                      745\n",
       "Podington Bear                               604\n",
       "Ergo Phizmiz                                 499\n",
       "Blue Dot Sessions                            416\n",
       "Lee Rosevere                                 371\n",
       "                                            ... \n",
       "No Way Josie!                                  1\n",
       "Sweetheart                                     1\n",
       "Prosthetik Intelligentz x GravityMovement      1\n",
       "Wordsmith Feat. Steven Drakes                  1\n",
       "Malefique                                      1\n",
       "Name: count, Length: 16294, dtype: int64"
      ]
     },
     "execution_count": 49,
     "metadata": {},
     "output_type": "execute_result"
    }
   ],
   "source": [
    "tracks['artist', 'name'].value_counts()"
   ]
  },
  {
   "cell_type": "markdown",
   "id": "d845a8f6",
   "metadata": {},
   "source": [
    "I did a little proprocessing here to clean the name of artists."
   ]
  },
  {
   "cell_type": "code",
   "execution_count": 50,
   "id": "a7e54d71",
   "metadata": {},
   "outputs": [],
   "source": [
    "FMA_artists = tracks['artist', 'name'].unique()\n",
    "df = (\n",
    "    pd.DataFrame(FMA_artists, columns=['name'])\n",
    "    ['name']\n",
    "    .str.strip()\n",
    "    .str.lower()\n",
    ")"
   ]
  },
  {
   "cell_type": "code",
   "execution_count": 51,
   "id": "3cc55f7d",
   "metadata": {},
   "outputs": [],
   "source": [
    "df.to_csv('FMA_artists.csv', index=False)"
   ]
  },
  {
   "cell_type": "code",
   "execution_count": null,
   "id": "4fb86e55",
   "metadata": {},
   "outputs": [
    {
     "data": {
      "text/plain": [
       "1653                           bobb bruno\n",
       "2013                         bruno walter\n",
       "2852                       franklin bruno\n",
       "8372                        bruno crochet\n",
       "10180    bruno guastalla and dominic lash\n",
       "11077         bruno ferro xavier da silva\n",
       "12525                 quaro/bruno del ben\n",
       "Name: name, dtype: object"
      ]
     },
     "execution_count": 60,
     "metadata": {},
     "output_type": "execute_result"
    }
   ],
   "source": [
    "df[df.str.contains('taylor')]"
   ]
  }
 ],
 "metadata": {
  "kernelspec": {
   "display_name": "csci1470",
   "language": "python",
   "name": "python3"
  },
  "language_info": {
   "codemirror_mode": {
    "name": "ipython",
    "version": 3
   },
   "file_extension": ".py",
   "mimetype": "text/x-python",
   "name": "python",
   "nbconvert_exporter": "python",
   "pygments_lexer": "ipython3",
   "version": "3.11.9"
  }
 },
 "nbformat": 4,
 "nbformat_minor": 5
}
